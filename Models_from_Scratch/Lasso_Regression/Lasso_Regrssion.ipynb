{
  "nbformat": 4,
  "nbformat_minor": 0,
  "metadata": {
    "colab": {
      "provenance": []
    },
    "kernelspec": {
      "name": "python3",
      "display_name": "Python 3"
    },
    "language_info": {
      "name": "python"
    }
  },
  "cells": [
    {
      "cell_type": "code",
      "execution_count": 1,
      "metadata": {
        "id": "RVcqRpZODvHg"
      },
      "outputs": [],
      "source": [
        "import numpy as np"
      ]
    },
    {
      "cell_type": "markdown",
      "source": [
        "**Lasso Regresssion**"
      ],
      "metadata": {
        "id": "ur25yWIeD21C"
      }
    },
    {
      "cell_type": "code",
      "source": [
        "class Lasso_regression():\n",
        "    def __init__(self, learning_rate, number_of_Iterations, lambda_parameter):\n",
        "        self.learning_rate = learning_rate\n",
        "        self.number_of_Iterations = number_of_Iterations\n",
        "        self.lambda_parameter = lambda_parameter\n",
        "\n",
        "    def fit(self, X, Y):\n",
        "        self.m, self.n = X.shape\n",
        "        self.w = np.zeros(self.n)\n",
        "        self.b = 0\n",
        "        self.X = X\n",
        "        self.Y = Y\n",
        "\n",
        "        for i in range(self.number_of_Iterations):\n",
        "            self.updated_weights()\n",
        "\n",
        "    def updated_weights(self):\n",
        "        Y_prediction = self.predict(self.X)\n",
        "        dw = np.zeros(self.n)\n",
        "\n",
        "        for i in range(self.n):\n",
        "            if self.w[i] > 0:\n",
        "                dw[i] = (-2 * (self.X[:, i].dot(self.Y - Y_prediction)) + self.lambda_parameter) / self.m\n",
        "            else:\n",
        "                dw[i] = (-2 * (self.X[:, i].dot(self.Y - Y_prediction)) - self.lambda_parameter) / self.m\n",
        "\n",
        "        db = -2 * np.sum(self.Y - Y_prediction) / self.m\n",
        "\n",
        "        self.w = self.w - self.learning_rate * dw\n",
        "        self.b = self.b - self.learning_rate * db\n",
        "\n",
        "    def predict(self, X):\n",
        "        return X.dot(self.w) + self.b\n",
        "\n",
        "\n",
        ""
      ],
      "metadata": {
        "id": "F9DKuT0dD7WX"
      },
      "execution_count": 6,
      "outputs": []
    },
    {
      "cell_type": "code",
      "source": [
        "X_train = np.array([[1, 2], [2, 3], [3, 4]])\n",
        "Y_train = np.array([3, 5, 7])\n",
        "\n",
        "#  Lasso regression model\n",
        "model = Lasso_regression(learning_rate=0.01, number_of_Iterations=1000, lambda_parameter=0.1)\n",
        "\n",
        "# Fitting the data\n",
        "model.fit(X_train, Y_train)\n",
        "\n",
        "# Prediction\n",
        "X_test = np.array([[4, 5], [5, 6]])\n",
        "predictions = model.predict(X_test)\n",
        "\n",
        "print(predictions)\n"
      ],
      "metadata": {
        "colab": {
          "base_uri": "https://localhost:8080/"
        },
        "id": "i9kerQsnSTgv",
        "outputId": "42ca5459-0773-45c5-e835-c8744368feb1"
      },
      "execution_count": 7,
      "outputs": [
        {
          "output_type": "stream",
          "name": "stdout",
          "text": [
            "[ 8.92999458 10.89362558]\n"
          ]
        }
      ]
    }
  ]
}